{
 "cells": [
  {
   "cell_type": "code",
   "execution_count": 21,
   "metadata": {},
   "outputs": [],
   "source": [
    "# Dependencies\n",
    "import requests\n",
    "import json\n",
    "from pprint import pprint\n",
    "from config import BmxToken\n",
    "\n",
    "url = \"https://www.banxico.org.mx/SieAPIRest/service/v1/series/\"\n",
    "      #https://www.banxico.org.mx/SieAPIRest/service/v1/series/SP30577/datos/2019-11-14/2019-12-19"
   ]
  },
  {
   "cell_type": "code",
   "execution_count": 22,
   "metadata": {},
   "outputs": [],
   "source": [
    "#Tipo de Cambio, pesos por dolar E.U.A. \n",
    "idSeries = \"SF43788\"\n",
    "\n",
    "#EN UN RANGO DE 3 DIAS\n",
    "fechaInicial = \"2019-12-18\"\n",
    "fechaFinal = \"2019-12-20\"\n",
    "\n",
    "header = {\n",
    "  \"Accept\": \"application/json\",\n",
    "  \"Bmx-Token\": BmxToken\n",
    " }"
   ]
  },
  {
   "cell_type": "code",
   "execution_count": 23,
   "metadata": {
    "scrolled": false
   },
   "outputs": [
    {
     "name": "stdout",
     "output_type": "stream",
     "text": [
      "https://www.banxico.org.mx/SieAPIRest/service/v1/series/SF43788/datos/2019-12-18/2019-12-20\n"
     ]
    }
   ],
   "source": [
    "response = requests.get(url + idSeries + \"/datos/\" + fechaInicial + \"/\" + fechaFinal, headers= header )\n",
    "print(response.url)"
   ]
  },
  {
   "cell_type": "code",
   "execution_count": 24,
   "metadata": {
    "scrolled": true
   },
   "outputs": [
    {
     "name": "stdout",
     "output_type": "stream",
     "text": [
      "{'bmx': {'series': [{'datos': [{'dato': '18.9570', 'fecha': '18/12/2019'},\n",
      "                               {'dato': '18.9480', 'fecha': '19/12/2019'},\n",
      "                               {'dato': '18.9240', 'fecha': '20/12/2019'}],\n",
      "                     'idSerie': 'SF43788',\n",
      "                     'titulo': 'Tipo de cambio pesos por dólar E.U.A. '\n",
      "                               'Interbancario a 48 horas Cierre compra'}]}}\n"
     ]
    }
   ],
   "source": [
    "data = response.json()\n",
    "pprint(data)"
   ]
  },
  {
   "cell_type": "code",
   "execution_count": 25,
   "metadata": {},
   "outputs": [
    {
     "name": "stdout",
     "output_type": "stream",
     "text": [
      "Tipo de cambio pesos por dólar E.U.A. Interbancario a 48 horas Cierre compra\n"
     ]
    }
   ],
   "source": [
    "print(f\"{data['bmx']['series'][0]['titulo']}\")"
   ]
  },
  {
   "cell_type": "code",
   "execution_count": 26,
   "metadata": {
    "scrolled": true
   },
   "outputs": [
    {
     "name": "stdout",
     "output_type": "stream",
     "text": [
      "La fecha es: \n",
      "{'18/12/2019'}\n",
      "El tipo de cambio es: \n",
      "{'18.9570'}\n",
      " \n",
      "La fecha es: \n",
      "{'19/12/2019'}\n",
      "El tipo de cambio es: \n",
      "{'18.9480'}\n",
      " \n",
      "La fecha es: \n",
      "{'20/12/2019'}\n",
      "El tipo de cambio es: \n",
      "{'18.9240'}\n",
      " \n"
     ]
    }
   ],
   "source": [
    "i = 0\n",
    "for i in range (3): \n",
    "    print(\"La fecha es: \")\n",
    "    print({data[\"bmx\"][\"series\"][0][\"datos\"][i][\"fecha\"]})\n",
    "    print(\"El tipo de cambio es: \")\n",
    "    print({data[\"bmx\"][\"series\"][0][\"datos\"][i][\"dato\"]})\n",
    "    print(\" \")      "
   ]
  },
  {
   "cell_type": "code",
   "execution_count": null,
   "metadata": {},
   "outputs": [],
   "source": []
  }
 ],
 "metadata": {
  "kernelspec": {
   "display_name": "Python 3",
   "language": "python",
   "name": "python3"
  },
  "language_info": {
   "codemirror_mode": {
    "name": "ipython",
    "version": 3
   },
   "file_extension": ".py",
   "mimetype": "text/x-python",
   "name": "python",
   "nbconvert_exporter": "python",
   "pygments_lexer": "ipython3",
   "version": "3.7.4"
  },
  "latex_envs": {
   "LaTeX_envs_menu_present": true,
   "autoclose": false,
   "autocomplete": true,
   "bibliofile": "biblio.bib",
   "cite_by": "apalike",
   "current_citInitial": 1,
   "eqLabelWithNumbers": true,
   "eqNumInitial": 1,
   "hotkeys": {
    "equation": "Ctrl-E",
    "itemize": "Ctrl-I"
   },
   "labels_anchors": false,
   "latex_user_defs": false,
   "report_style_numbering": false,
   "user_envs_cfg": false
  },
  "varInspector": {
   "cols": {
    "lenName": 16,
    "lenType": 16,
    "lenVar": 40
   },
   "kernels_config": {
    "python": {
     "delete_cmd_postfix": "",
     "delete_cmd_prefix": "del ",
     "library": "var_list.py",
     "varRefreshCmd": "print(var_dic_list())"
    },
    "r": {
     "delete_cmd_postfix": ") ",
     "delete_cmd_prefix": "rm(",
     "library": "var_list.r",
     "varRefreshCmd": "cat(var_dic_list()) "
    }
   },
   "types_to_exclude": [
    "module",
    "function",
    "builtin_function_or_method",
    "instance",
    "_Feature"
   ],
   "window_display": false
  }
 },
 "nbformat": 4,
 "nbformat_minor": 2
}
