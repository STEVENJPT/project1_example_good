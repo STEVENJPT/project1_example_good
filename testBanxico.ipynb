{
 "cells": [
  {
   "cell_type": "code",
   "execution_count": 8,
   "metadata": {},
   "outputs": [],
   "source": [
    "# Dependencies\n",
    "import requests\n",
    "import json\n",
    "from pprint import pprint\n",
    "from config import BmxToken\n",
    "\n",
    "url = \"https://www.banxico.org.mx/SieAPIRest/service/v1/series/\"\n",
    "      #https://www.banxico.org.mx/SieAPIRest/service/v1/series/SP30577/datos/2019-11-14/2019-12-19\n"
   ]
  },
  {
   "cell_type": "code",
   "execution_count": 9,
   "metadata": {},
   "outputs": [],
   "source": [
    "idSeries = \"SP30577\"\n",
    "fechaInicial = \"2019-11-14\"\n",
    "fechaFinal = \"2019-12-19\"\n",
    "\n",
    "header = {\n",
    "  \"Accept\": \"application/json\",\n",
    "  \"Bmx-Token\": BmxToken\n",
    " }"
   ]
  },
  {
   "cell_type": "code",
   "execution_count": 10,
   "metadata": {
    "scrolled": false
   },
   "outputs": [
    {
     "name": "stdout",
     "output_type": "stream",
     "text": [
      "https://www.banxico.org.mx/SieAPIRest/service/v1/series/SP30577/datos/2019-11-14/2019-12-19\n"
     ]
    }
   ],
   "source": [
    "response = requests.get(url + idSeries + \"/datos/\" + fechaInicial + \"/\" + fechaFinal, headers= header )\n",
    "print(response.url)"
   ]
  },
  {
   "cell_type": "code",
   "execution_count": 11,
   "metadata": {},
   "outputs": [
    {
     "name": "stdout",
     "output_type": "stream",
     "text": [
      "{'bmx': {'series': [{'datos': [{'dato': '0.56000000', 'fecha': '01/12/2019'}],\n",
      "                     'idSerie': 'SP30577',\n",
      "                     'titulo': 'Índice Nacional de Precios al consumidor '\n",
      "                               'Variación mensual'}]}}\n"
     ]
    }
   ],
   "source": [
    "data = response.json()\n",
    "pprint(data)\n",
    "\n",
    "\n",
    "\n"
   ]
  },
  {
   "cell_type": "code",
   "execution_count": 12,
   "metadata": {},
   "outputs": [
    {
     "data": {
      "text/plain": [
       "{'bmx': {'series': [{'datos': [{'dato': '0.56000000', 'fecha': '01/12/2019'}],\n",
       "    'idSerie': 'SP30577',\n",
       "    'titulo': 'Índice Nacional de Precios al consumidor Variación mensual'}]}}"
      ]
     },
     "execution_count": 12,
     "metadata": {},
     "output_type": "execute_result"
    }
   ],
   "source": [
    "# Print a few keys from the response JSON.\n",
    "\n",
    "{'bmx': \n",
    "    {'series': \n",
    "        [{'datos': \n",
    "              [\n",
    "                  {'dato': '0.56000000', 'fecha': '01/12/2019'}],\n",
    "          'idSerie': 'SP30577',\n",
    "          'titulo': 'Índice Nacional de Precios al consumidor Variación mensual'}\n",
    "]\n",
    "\n",
    "}}"
   ]
  },
  {
   "cell_type": "code",
   "execution_count": 13,
   "metadata": {},
   "outputs": [
    {
     "name": "stdout",
     "output_type": "stream",
     "text": [
      "Índice Nacional de Precios al consumidor Variación mensual\n"
     ]
    }
   ],
   "source": [
    "print(f\"{data['bmx']['series'][0]['titulo']}\")"
   ]
  },
  {
   "cell_type": "code",
   "execution_count": 14,
   "metadata": {},
   "outputs": [
    {
     "name": "stdout",
     "output_type": "stream",
     "text": [
      "\n",
      "La fecha es: \n",
      "{'01/12/2019'}\n",
      " \n",
      "La tasa es: \n",
      "{'0.56000000'}\n"
     ]
    }
   ],
   "source": [
    "print(\"\")\n",
    "\n",
    "print(\"La fecha es: \")\n",
    "print({data[\"bmx\"][\"series\"][0][\"datos\"][0][\"fecha\"]})\n",
    "\n",
    "print(\" \")\n",
    "\n",
    "print(\"La tasa es: \")\n",
    "print({data[\"bmx\"][\"series\"][0][\"datos\"][0][\"dato\"]})\n",
    "\n",
    "      "
   ]
  },
  {
   "cell_type": "code",
   "execution_count": null,
   "metadata": {},
   "outputs": [],
   "source": []
  }
 ],
 "metadata": {
  "kernelspec": {
   "display_name": "Python 3",
   "language": "python",
   "name": "python3"
  },
  "language_info": {
   "codemirror_mode": {
    "name": "ipython",
    "version": 3
   },
   "file_extension": ".py",
   "mimetype": "text/x-python",
   "name": "python",
   "nbconvert_exporter": "python",
   "pygments_lexer": "ipython3",
   "version": "3.7.4"
  },
  "latex_envs": {
   "LaTeX_envs_menu_present": true,
   "autoclose": false,
   "autocomplete": true,
   "bibliofile": "biblio.bib",
   "cite_by": "apalike",
   "current_citInitial": 1,
   "eqLabelWithNumbers": true,
   "eqNumInitial": 1,
   "hotkeys": {
    "equation": "Ctrl-E",
    "itemize": "Ctrl-I"
   },
   "labels_anchors": false,
   "latex_user_defs": false,
   "report_style_numbering": false,
   "user_envs_cfg": false
  },
  "varInspector": {
   "cols": {
    "lenName": 16,
    "lenType": 16,
    "lenVar": 40
   },
   "kernels_config": {
    "python": {
     "delete_cmd_postfix": "",
     "delete_cmd_prefix": "del ",
     "library": "var_list.py",
     "varRefreshCmd": "print(var_dic_list())"
    },
    "r": {
     "delete_cmd_postfix": ") ",
     "delete_cmd_prefix": "rm(",
     "library": "var_list.r",
     "varRefreshCmd": "cat(var_dic_list()) "
    }
   },
   "types_to_exclude": [
    "module",
    "function",
    "builtin_function_or_method",
    "instance",
    "_Feature"
   ],
   "window_display": false
  }
 },
 "nbformat": 4,
 "nbformat_minor": 2
}
