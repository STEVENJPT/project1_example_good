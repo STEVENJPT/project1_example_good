{
 "cells": [
  {
   "cell_type": "code",
   "execution_count": 12,
   "metadata": {},
   "outputs": [],
   "source": [
    "#API Banxico\n",
    "banxico_key = \"85c8edeab72128102cdad764f0a2d4532c336d22690a51104b500fb6f077ed4c\""
   ]
  },
  {
   "cell_type": "code",
   "execution_count": 13,
   "metadata": {},
   "outputs": [],
   "source": [
    "url = \"https://www.banxico.org.mx/SieAPIRest/service/v1/series/\""
   ]
  },
  {
   "cell_type": "code",
   "execution_count": 14,
   "metadata": {},
   "outputs": [],
   "source": [
    "#Serie inflacion \"SP30577\"\n",
    "#serie inflacion subyacente \"SP74660\"\n",
    "#serie tasa de cambio cierre \"SF43788\"\n",
    "\n",
    "#Total series\n",
    "Series = \"SP30577,SP74660,SF43788\""
   ]
  },
  {
   "cell_type": "code",
   "execution_count": 15,
   "metadata": {},
   "outputs": [],
   "source": [
    "#Fechas AAAA-MM-dd\n",
    "#fecha_inicial = input(print(\"Fecha inicial consulta AAAA-MM-dd\"))\n",
    "fecha_inicial = \"2019-11-14\"\n",
    "fecha_final = \"2019-12-19\"\n",
    "#fecha_final = input(print(\"Fecha final consulta AAAA-MM-dd\"))"
   ]
  },
  {
   "cell_type": "code",
   "execution_count": 16,
   "metadata": {},
   "outputs": [],
   "source": [
    "url_consulta = f\"{url}{Series}/datos/{fecha_inicial}/{fecha_final}?token={banxico_key}\""
   ]
  },
  {
   "cell_type": "code",
   "execution_count": null,
   "metadata": {},
   "outputs": [],
   "source": []
  }
 ],
 "metadata": {
  "kernelspec": {
   "display_name": "Python 3",
   "language": "python",
   "name": "python3"
  },
  "language_info": {
   "codemirror_mode": {
    "name": "ipython",
    "version": 3
   },
   "file_extension": ".py",
   "mimetype": "text/x-python",
   "name": "python",
   "nbconvert_exporter": "python",
   "pygments_lexer": "ipython3",
   "version": "3.7.4"
  }
 },
 "nbformat": 4,
 "nbformat_minor": 2
}
