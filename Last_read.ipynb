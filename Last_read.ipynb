{
 "cells": [
  {
   "cell_type": "code",
   "execution_count": 1,
   "metadata": {},
   "outputs": [],
   "source": [
    "import pandas as pd\n",
    "import datetime\n",
    "import requests\n",
    "import tabula\n",
    "import io\n",
    "import os\n",
    "import sys\n",
    "\n",
    "#URLlib\n",
    "import urllib\n",
    "import urllib.request\n",
    "\n",
    "#PDFminer\n",
    "import pdfminer\n",
    "from pdfminer.pdfpage import PDFPage\n",
    "from pdfminer.pdfparser import PDFParser\n",
    "from pdfminer.pdfdocument import PDFDocument\n",
    "from pdfminer.pdfinterp import PDFResourceManager\n",
    "from pdfminer.pdfinterp import PDFPageInterpreter\n",
    "from pdfminer.layout import LAParams\n",
    "from pdfminer.converter import TextConverter\n",
    "from io import StringIO\n",
    "from pdfminer.converter import PDFPageAggregator\n",
    "from pdfminer.layout import LTTextBoxHorizontal"
   ]
  },
  {
   "cell_type": "code",
   "execution_count": 3,
   "metadata": {},
   "outputs": [],
   "source": [
    "#Ojo Cambiar el nombre del archivo\n",
    "path_statement_1 = \"statement.pdf\"\n",
    "path_statement_2 = \"statement_2.pdf\""
   ]
  },
  {
   "cell_type": "code",
   "execution_count": 4,
   "metadata": {},
   "outputs": [],
   "source": [
    "def convert_pdf_to_txt(path):\n",
    "    rsrcmgr = PDFResourceManager()\n",
    "    retstr = StringIO()\n",
    "    laparams = LAParams()\n",
    "    device = TextConverter(rsrcmgr, retstr, laparams=laparams)\n",
    "    fp = open(path, 'rb')\n",
    "    interpreter = PDFPageInterpreter(rsrcmgr, device)\n",
    "    password = \"\"\n",
    "    maxpages = 0\n",
    "    caching = True\n",
    "    pagenos = set()\n",
    "\n",
    "    for page in PDFPage.get_pages(fp, pagenos, maxpages=maxpages,\n",
    "                                  password=password,\n",
    "                                  caching=caching,\n",
    "                                  check_extractable=True):\n",
    "        interpreter.process_page(page)\n",
    "\n",
    "    text = retstr.getvalue()\n",
    "\n",
    "    fp.close()\n",
    "    device.close()\n",
    "    retstr.close()\n",
    "    return text"
   ]
  },
  {
   "cell_type": "code",
   "execution_count": 5,
   "metadata": {},
   "outputs": [],
   "source": [
    "pdf_text = convert_pdf_to_txt(path).replace('\\n', '')"
   ]
  },
  {
   "cell_type": "code",
   "execution_count": 6,
   "metadata": {},
   "outputs": [
    {
     "data": {
      "text/plain": [
       "' 14 de noviembre de 2019 Anuncio de Política Monetaria Comunicado de Prensa La Junta de Gobierno del Banco de México ha decidido disminuir en 25 puntos base el objetivo para la Tasa de Interés Interbancaria a un día a un nivel de 750% Durante el tercer trimestre del año continuó la desaceleración de la economía mundial y sus perspectivas de crecimiento han seguido revisándose a la baja Ello en un entorno en el que las inflaciones general y subyacente en las principales economías avanzadas permanecen en niveles inferiores a las metas de sus respectivos bancos centrales En este contexto algunas de estas instituciones han tomado acciones de relajamiento monetario en los últimos meses En su reunión de octubre la Reserva Federal redujo en 25 puntos base el rango objetivo para la tasa de fondos federales y en su comunicación destacó que el rango alcanzado es apropiado considerando los riesgos que enfrenta Por su parte los mercados financieros internacionales presentaron una menor volatilidad debido principalmente a que se han atenuado las tensiones comerciales entre Estados Unidos y China y se redujo la probabilidad de una salida desordenada del Reino Unido de la Unión Europea Adicionalmente las posturas acomodaticias de los principales bancos centrales han contribuido a un mejor desempeño de los mercados financieros internacionales en las últimas semanas No obstante persisten riesgos para la economía global asociados a las tensiones comerciales y factores geopolíticos así como a incertidumbre política y social en diversos países Por tanto el balance de riesgos para la actividad económica mundial continúa sesgado a la baja El relajamiento en las condiciones financieras globales ha propiciado un mejor desempeño de los mercados financieros de economías emergentes En México si bien con episodios de volatilidad desde la última decisión de política monetaria la cotización del peso mostró cierta apreciación mientras que las tasas de interés de los valores gubernamentales han reflejado los efectos de las menores tasas de interés externas En cuanto a los riesgos que pudieran afectar el desempeño de los activos financieros nacionales persiste la incertidumbre asociada a la relación bilateral entre México y Estados Unidos y a las perspectivas crediticias para la calificación de la deuda de Pemex y la soberana El entorno actual sigue presentando importantes riesgos que pudieran afectar las condiciones macroeconómicas del país su capacidad de crecimiento y el proceso de formación de precios en la economía En este sentido es particularmente importante que además de seguir una política monetaria prudente y firme se impulse la adopción de medidas que propicien un ambiente de confianza y certidumbre para la inversión una mayor productividad y que se consoliden sosteniblemente las finanzas públicas En este contexto es necesario reforzar las perspectivas crediticias soberana y de Pemex así como cumplir las metas fiscales para 2019 y los objetivos del Paquete Económico 2020 Asimismo es indispensable fortalecer el estado de derecho abatir la corrupción y combatir la inseguridad La información oportuna para el tercer trimestre de 2019 muestra que se ha mantenido el estancamiento de la actividad económica que se ha venido observando por varios trimestres Ello implica la ampliación de las condiciones de holgura de la economía a un ritmo mayor al previsto Con base en la información más reciente el crecimiento que se prevé para el PIB en este y el próximo año sería menor al publicado en el Informe Trimestral Abril-Junio 2019 En un entorno de marcada incertidumbre el balance de riesgos para el crecimiento continúa sesgado a la baja 1  La inflación general en octubre fue de 302% Destaca que el subíndice no subyacente se ha mantenido en niveles bajos ubicándose en 101% en dicho mes mientras que el subyacente ha persistido en niveles superiores si bien mostró una ligera reducción para ubicarse en 368% en dicho periodo En cuanto a las expectativas de inflación provenientes de encuestas las de corto plazo han seguido a la información más reciente mientras que las de mayor plazo han permanecido relativamente estables si bien en niveles superiores a 3% El comportamiento reciente de los factores que inciden en la trayectoria esperada de la inflación general sugiere que esta podría ubicarse ligeramente por debajo de la trayectoria dada a conocer en el Informe Trimestral anterior Ello debido a que en los últimos meses se han materializado algunos riesgos a la baja en la inflación no subyacente Por su parte la inflación subyacente ha continuado mostrando persistencia  En cuanto a los riesgos para la inflación al alza se encuentran: que se mantenga la persistencia mostrada por la inflación subyacente;  aumentos salariales por encima de las ganancias en productividad y que ello genere presiones de costos;que la cotización de la moneda nacional se vea presionada por factores externos o internos; la amenaza de aranceles por parte de Estados Unidos y que se adopten medidas compensatorias si bien este riesgo se ha mitigado; que se deterioren las finanzas públicas; y  aumentos en los precios agropecuarios o en los energéticos mayores a lo previsto Por otra parte en cuanto a los riesgos a la baja destacan: que se aprecie la cotización de la moneda nacional lo cual podría estar asociado a un contexto de mayor apetito por riesgo en los mercados financieros internacionales o en caso de ratificarse el acuerdo comercial con Estados Unidos y Canadá; que la amplitud en las condiciones de holgura o su efecto en la inflación subyacente sea mayor al previsto; yque se presenten menores variaciones en los precios de algunos bienes incluidos en el subíndice no subyacente En este contexto se mantiene incertidumbre en cuanto a los riesgos que pudieran desviar a la inflación respecto de la trayectoria esperada Para guiar sus acciones de política monetaria la Junta de Gobierno da seguimiento cercano a la evolución de la inflación respecto a lo previsto considerando la postura monetaria adoptada y el horizonte en el que esta opera En este proceso utiliza la información disponible de los determinantes de la inflación así como sus expectativas de mediano y largo plazos incluyendo el balance de riesgos para estos A su vez la política monetaria debe actuar con prudencia si por diversas razones se eleva considerablemente la incertidumbre que enfrenta la economía En este contexto tomando en cuenta que los menores niveles que registra la inflación general así como la mayor amplitud de las condiciones de holgura de la economía y el comportamiento reciente de las curvas de rendimiento externas e internas permiten reducir la tasa de referencia la Junta de Gobierno decidió por mayoría disminuir en 25 puntos base el objetivo para la Tasa de Interés Interbancaria a un día a un nivel de 750% Dos miembros votaron por disminuir dicho objetivo a un nivel de 725% Para consolidar una inflación baja y estable en un entorno en el que la formación de precios y las condiciones de holgura en la economía están sujetas a riesgos la Junta de Gobierno continuará dando seguimiento cercano a todos los factores y elementos de incertidumbre que inciden en el comportamiento de la inflación y sus perspectivas y tomará las acciones que se requieran con base en la información adicional de tal manera que la tasa de referencia sea congruente con la convergencia ordenada y sostenida de la inflación general a la meta del Banco de México en el plazo en el que opera la política monetaria La Junta mantendrá una postura monetaria prudente y dará un seguimiento especial en el entorno de incertidumbre prevaleciente al traspaso potencial de las variaciones del tipo de cambio a los precios a la posición monetaria relativa en un contexto externo en el que persisten riesgos así como a la evolución de las condiciones de holgura y presiones de costos en la economía Ante la presencia y posible persistencia de factores que por su naturaleza impliquen un riesgo para la inflación y sus expectativas la política monetaria se ajustará de manera oportuna y firme para lograr la convergencia de esta a su objetivo de 3% así como para fortalecer el anclaje de las expectativas de inflación de mediano y largo plazos para que alcancen dicha meta 2 '"
      ]
     },
     "execution_count": 6,
     "metadata": {},
     "output_type": "execute_result"
    }
   ],
   "source": [
    "words_to_replace = [\"\\x0c\", \".\", \",\", \" i)\", \"ii\", \"iii\", \"iv)\", \"v)\", \"vi)\", \")\", \" i \", \" v \", \" vi \", \" iv \"]\n",
    "for word in words_to_replace:\n",
    "    pdf_text = pdf_text.replace(word, \"\")\n",
    "pdf_text = pdf_text.replace(\"  \", \" \")\n",
    "pdf_text"
   ]
  },
  {
   "cell_type": "code",
   "execution_count": 7,
   "metadata": {},
   "outputs": [],
   "source": [
    "set_of_words_in_file = set(pdf_text.split(' '))\n",
    "list_of_words_in_file = list(pdf_text.split(' '))"
   ]
  },
  {
   "cell_type": "code",
   "execution_count": 11,
   "metadata": {},
   "outputs": [],
   "source": [
    "clean_list_of_words_in_file = [ word for word in list_of_words_in_file if word != \"a\" and \n",
    "                               word != \"ante\" and word != \"en\" and word != \"sin\" and\n",
    "                               word != \"so\" and word != \"con\" and word != \"tras\" and\n",
    "                               word != \"mediante\" and word != \"mediante\" and word != \"versus\" and\n",
    "                               word != \"de\" and word != \"para\" and word != \"vía\" and\n",
    "                               word != \"desde\" and word != \"por\" and word != \"ha\" and word != \"la\"]"
   ]
  },
  {
   "cell_type": "code",
   "execution_count": 13,
   "metadata": {},
   "outputs": [],
   "source": [
    "key_words = {}"
   ]
  },
  {
   "cell_type": "code",
   "execution_count": 14,
   "metadata": {},
   "outputs": [
    {
     "data": {
      "text/plain": [
       "que            38\n",
       "y              37\n",
       "el             34\n",
       "las            29\n",
       "los            24\n",
       "               ..\n",
       "todos           1\n",
       "cambio          1\n",
       "permanecen      1\n",
       "importantes     1\n",
       "eleva           1\n",
       "Name: words, Length: 447, dtype: int64"
      ]
     },
     "execution_count": 14,
     "metadata": {},
     "output_type": "execute_result"
    }
   ],
   "source": [
    "words_df = pd.DataFrame(clean_list_of_words_in_file)\n",
    "words_df.columns = [\"words\"]\n",
    "words_df['words'].value_counts()"
   ]
  },
  {
   "cell_type": "code",
   "execution_count": null,
   "metadata": {},
   "outputs": [],
   "source": []
  }
 ],
 "metadata": {
  "kernelspec": {
   "display_name": "Python 3",
   "language": "python",
   "name": "python3"
  },
  "language_info": {
   "codemirror_mode": {
    "name": "ipython",
    "version": 3
   },
   "file_extension": ".py",
   "mimetype": "text/x-python",
   "name": "python",
   "nbconvert_exporter": "python",
   "pygments_lexer": "ipython3",
   "version": "3.7.4"
  }
 },
 "nbformat": 4,
 "nbformat_minor": 2
}
