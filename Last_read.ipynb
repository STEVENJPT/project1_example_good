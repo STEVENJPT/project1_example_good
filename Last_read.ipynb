{
 "cells": [
  {
   "cell_type": "code",
   "execution_count": 4,
   "metadata": {},
   "outputs": [],
   "source": [
    "import pandas as pd\n",
    "import datetime\n",
    "import requests\n",
    "import tabula\n",
    "import io\n",
    "import os\n",
    "import sys\n",
    "\n",
    "#URLlib\n",
    "import urllib\n",
    "import urllib.request\n",
    "\n",
    "#PDFminer\n",
    "import pdfminer\n",
    "from pdfminer.pdfpage import PDFPage\n",
    "from pdfminer.pdfparser import PDFParser\n",
    "from pdfminer.pdfdocument import PDFDocument\n",
    "from pdfminer.pdfinterp import PDFResourceManager\n",
    "from pdfminer.pdfinterp import PDFPageInterpreter\n",
    "from pdfminer.layout import LAParams\n",
    "from pdfminer.converter import TextConverter\n",
    "from io import StringIO\n",
    "from pdfminer.converter import PDFPageAggregator\n",
    "from pdfminer.layout import LTTextBoxHorizontal"
   ]
  },
  {
   "cell_type": "code",
   "execution_count": 20,
   "metadata": {},
   "outputs": [],
   "source": [
    "#Ojo Cambiar el nombre del archivo\n",
    "path = \"statement.pdf\""
   ]
  },
  {
   "cell_type": "code",
   "execution_count": null,
   "metadata": {},
   "outputs": [],
   "source": [
    "key_words = {\"menor volatilidad\",\n",
    "            \"mayor volatilidad\",\n",
    "            \"perspectivas crediticias\",\n",
    "            \"holgura\",\n",
    "            \"balance\",\n",
    "            \"inflación\",\n",
    "            \"inflación subyacente\",\n",
    "            \"finanzas públicas\",\n",
    "            \"incertidumbre\",\n",
    "            \"postura monetaria prudente\"\n",
    "            \"actividad económica\",\n",
    "            \"economía\",\n",
    "            \"balance\"}"
   ]
  },
  {
   "cell_type": "code",
   "execution_count": 21,
   "metadata": {},
   "outputs": [],
   "source": [
    "def convert_pdf_to_txt(path):\n",
    "    rsrcmgr = PDFResourceManager()\n",
    "    retstr = StringIO()\n",
    "    laparams = LAParams()\n",
    "    device = TextConverter(rsrcmgr, retstr, laparams=laparams)\n",
    "    fp = open(path, 'rb')\n",
    "    interpreter = PDFPageInterpreter(rsrcmgr, device)\n",
    "    password = \"\"\n",
    "    maxpages = 0\n",
    "    caching = True\n",
    "    pagenos = set()\n",
    "\n",
    "    for page in PDFPage.get_pages(fp, pagenos, maxpages=maxpages,\n",
    "                                  password=password,\n",
    "                                  caching=caching,\n",
    "                                  check_extractable=True):\n",
    "        interpreter.process_page(page)\n",
    "\n",
    "    text = retstr.getvalue()\n",
    "\n",
    "    fp.close()\n",
    "    device.close()\n",
    "    retstr.close()\n",
    "    return text"
   ]
  },
  {
   "cell_type": "code",
   "execution_count": 22,
   "metadata": {},
   "outputs": [],
   "source": [
    "pdf_text = convert_pdf_to_txt(path).replace('\\n', '')"
   ]
  },
  {
   "cell_type": "code",
   "execution_count": 23,
   "metadata": {},
   "outputs": [],
   "source": [
    "words_to_replace = [\"\\x0c\", \".\", \",\", \" i)\", \"ii\", \"iii\", \"iv)\", \"v)\", \"vi)\", \")\", \" i \", \" v \", \" vi \", \" iv \"]\n",
    "for word in words_to_replace:\n",
    "    pdf_text = pdf_text.replace(word, \"\")\n",
    "pdf_text = pdf_text.replace(\"  \", \" \")\n"
   ]
  },
  {
   "cell_type": "code",
   "execution_count": 31,
   "metadata": {},
   "outputs": [
    {
     "data": {
      "text/html": [
       "<div>\n",
       "<style scoped>\n",
       "    .dataframe tbody tr th:only-of-type {\n",
       "        vertical-align: middle;\n",
       "    }\n",
       "\n",
       "    .dataframe tbody tr th {\n",
       "        vertical-align: top;\n",
       "    }\n",
       "\n",
       "    .dataframe thead th {\n",
       "        text-align: right;\n",
       "    }\n",
       "</style>\n",
       "<table border=\"1\" class=\"dataframe\">\n",
       "  <thead>\n",
       "    <tr style=\"text-align: right;\">\n",
       "      <th></th>\n",
       "      <th>inflación subyacente</th>\n",
       "      <th>inflación</th>\n",
       "      <th>balance</th>\n",
       "      <th>finanzas públicas</th>\n",
       "      <th>perspectivas crediticias</th>\n",
       "      <th>menor volatilidad</th>\n",
       "      <th>mayor volatilidad</th>\n",
       "      <th>economía</th>\n",
       "      <th>holgura</th>\n",
       "      <th>postura monetaria prudenteactividad económica</th>\n",
       "      <th>incertidumbre</th>\n",
       "    </tr>\n",
       "  </thead>\n",
       "  <tbody>\n",
       "    <tr>\n",
       "      <td>Past Statement</td>\n",
       "      <td>3.0</td>\n",
       "      <td>17.0</td>\n",
       "      <td>3.0</td>\n",
       "      <td>2.0</td>\n",
       "      <td>2.0</td>\n",
       "      <td>1.0</td>\n",
       "      <td>0.0</td>\n",
       "      <td>10.0</td>\n",
       "      <td>5.0</td>\n",
       "      <td>0.0</td>\n",
       "      <td>7.0</td>\n",
       "    </tr>\n",
       "  </tbody>\n",
       "</table>\n",
       "</div>"
      ],
      "text/plain": [
       "                inflación subyacente  inflación  balance  finanzas públicas  \\\n",
       "Past Statement                   3.0       17.0      3.0                2.0   \n",
       "\n",
       "                perspectivas crediticias  menor volatilidad  \\\n",
       "Past Statement                       2.0                1.0   \n",
       "\n",
       "                mayor volatilidad  economía  holgura  \\\n",
       "Past Statement                0.0      10.0      5.0   \n",
       "\n",
       "                postura monetaria prudenteactividad económica  incertidumbre  \n",
       "Past Statement                                            0.0            7.0  "
      ]
     },
     "execution_count": 31,
     "metadata": {},
     "output_type": "execute_result"
    }
   ],
   "source": [
    "words_df = pd.DataFrame(columns=['Past Statement'])\n",
    "for phrase in key_words:\n",
    "    words_df.loc[phrase, \"Past Statement\"] = pdf_text.count(phrase)\n",
    "\n",
    "words_df = words_df.transpose()\n",
    "words_df"
   ]
  },
  {
   "cell_type": "code",
   "execution_count": null,
   "metadata": {},
   "outputs": [],
   "source": []
  },
  {
   "cell_type": "code",
   "execution_count": null,
   "metadata": {},
   "outputs": [],
   "source": []
  },
  {
   "cell_type": "code",
   "execution_count": null,
   "metadata": {},
   "outputs": [],
   "source": []
  },
  {
   "cell_type": "code",
   "execution_count": null,
   "metadata": {},
   "outputs": [],
   "source": []
  },
  {
   "cell_type": "code",
   "execution_count": null,
   "metadata": {},
   "outputs": [],
   "source": [
    "\n"
   ]
  },
  {
   "cell_type": "code",
   "execution_count": null,
   "metadata": {},
   "outputs": [],
   "source": []
  },
  {
   "cell_type": "code",
   "execution_count": null,
   "metadata": {},
   "outputs": [],
   "source": []
  },
  {
   "cell_type": "code",
   "execution_count": null,
   "metadata": {},
   "outputs": [],
   "source": []
  }
 ],
 "metadata": {
  "kernelspec": {
   "display_name": "Python 3",
   "language": "python",
   "name": "python3"
  },
  "language_info": {
   "codemirror_mode": {
    "name": "ipython",
    "version": 3
   },
   "file_extension": ".py",
   "mimetype": "text/x-python",
   "name": "python",
   "nbconvert_exporter": "python",
   "pygments_lexer": "ipython3",
   "version": "3.7.4"
  }
 },
 "nbformat": 4,
 "nbformat_minor": 2
}
