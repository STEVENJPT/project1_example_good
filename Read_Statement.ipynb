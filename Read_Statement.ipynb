{
 "cells": [
  {
   "cell_type": "code",
   "execution_count": 139,
   "metadata": {},
   "outputs": [],
   "source": [
    "import pandas as pd\n",
    "import requests\n",
    "import os\n",
    "import sys\n",
    "\n",
    "#URLlib\n",
    "import urllib\n",
    "import urllib.request\n",
    "\n",
    "#PDFminer\n",
    "from pdfminer.pdfpage import PDFPage\n",
    "from pdfminer.pdfparser import PDFParser\n",
    "from pdfminer.pdfdocument import PDFDocument\n",
    "from pdfminer.pdfinterp import PDFResourceManager\n",
    "from pdfminer.pdfinterp import PDFPageInterpreter\n",
    "from pdfminer.layout import LAParams\n",
    "from pdfminer.converter import TextConverter\n",
    "from io import StringIO\n",
    "from pdfminer.converter import PDFPageAggregator\n",
    "from pdfminer.layout import LTTextBoxHorizontal"
   ]
  },
  {
   "cell_type": "code",
   "execution_count": 140,
   "metadata": {},
   "outputs": [],
   "source": [
    "#Palabras a buscar \n",
    "# word_count = \"Word Count\"\n",
    "# letter_count = \"Letter Count\"\n",
    "word_1 = \"Crecimiento\"\n",
    "word_2 = \"Riesgo\"\n",
    "word_3 = \"inflacion\"\n",
    "#Misma formato para mas palabras\n",
    "words_to_seek = [\"actividad\", \"económica\", \"mundial\", \"méxico\"]"
   ]
  },
  {
   "cell_type": "code",
   "execution_count": 141,
   "metadata": {},
   "outputs": [],
   "source": [
    "word_seek = pd.DataFrame( index = [word_count,\n",
    "                                  letter_count,\n",
    "                                  word_1,\n",
    "                                  word_2,\n",
    "                                  word_3])"
   ]
  },
  {
   "cell_type": "code",
   "execution_count": 142,
   "metadata": {},
   "outputs": [],
   "source": [
    "path = \"statement.pdf\""
   ]
  },
  {
   "cell_type": "code",
   "execution_count": 143,
   "metadata": {},
   "outputs": [],
   "source": [
    "def convert_pdf_to_txt(path):\n",
    "    rsrcmgr = PDFResourceManager()\n",
    "    retstr = StringIO()\n",
    "    laparams = LAParams()\n",
    "    device = TextConverter(rsrcmgr, retstr, laparams=laparams)\n",
    "    fp = open(path, 'rb')\n",
    "    interpreter = PDFPageInterpreter(rsrcmgr, device)\n",
    "    password = \"\"\n",
    "    maxpages = 0\n",
    "    caching = True\n",
    "    pagenos = set()\n",
    "\n",
    "    for page in PDFPage.get_pages(fp, pagenos, maxpages=maxpages,\n",
    "                                  password=password,\n",
    "                                  caching=caching,\n",
    "                                  check_extractable=True):\n",
    "        interpreter.process_page(page)\n",
    "\n",
    "    text = retstr.getvalue()\n",
    "\n",
    "    fp.close()\n",
    "    device.close()\n",
    "    retstr.close()\n",
    "    return text"
   ]
  },
  {
   "cell_type": "code",
   "execution_count": 144,
   "metadata": {},
   "outputs": [],
   "source": [
    "pdf_text = convert_pdf_to_txt(path).replace('\\n', '')"
   ]
  },
  {
   "cell_type": "code",
   "execution_count": 145,
   "metadata": {},
   "outputs": [
    {
     "data": {
      "text/plain": [
       "' 14 de noviembre de 2019 anuncio de política monetaria  comunicado de prensa la junta de gobierno del banco de méxico ha decidido disminuir en 25 puntos base el objetivo para la tasa de interés interbancaria a un día a un nivel de 7.50%.  durante el tercer trimestre del año continuó la desaceleración de la economía mundial y sus perspectivas de crecimiento han seguido revisándose a la baja. ello, en un entorno en el que las inflaciones general y subyacente en las principales economías avanzadas permanecen en niveles inferiores a las metas de sus respectivos bancos centrales. en este contexto, algunas de estas instituciones han tomado acciones de relajamiento monetario en los últimos meses. en su reunión de octubre la reserva federal redujo en 25 puntos base el rango objetivo para la tasa de fondos federales y en su comunicación destacó que el rango  alcanzado  es  apropiado  considerando  los  riesgos  que  enfrenta.  por  su  parte,  los  mercados financieros  internacionales  presentaron  una  menor  volatilidad,  debido  principalmente  a  que  se  han atenuado las tensiones comerciales entre estados unidos y china y se redujo la probabilidad de una salida desordenada del reino unido de la unión europea. adicionalmente, las posturas acomodaticias de los principales bancos centrales han contribuido a un mejor desempeño de los mercados financieros internacionales  en  las  últimas  semanas.  no  obstante,  persisten  riesgos  para  la  economía  global asociados a las tensiones comerciales y factores geopolíticos, así como a incertidumbre política y social en  diversos  países.  por  tanto,  el  balance  de  riesgos  para  la  actividad  económica  mundial  continúa sesgado a la baja.  el  relajamiento  en  las  condiciones  financieras  globales  ha  propiciado  un  mejor  desempeño  de  los mercados financieros de economías emergentes. en méxico, si bien con episodios de volatilidad, desde la última decisión de política monetaria la cotización del peso mostró cierta apreciación, mientras que las tasas de interés de los valores gubernamentales han reflejado los efectos de las menores tasas de interés externas. en cuanto a los riesgos que pudieran afectar el desempeño de los activos financieros nacionales, persiste la incertidumbre asociada a la relación bilateral entre méxico y estados unidos y a las perspectivas crediticias para la calificación de la deuda de pemex y la soberana.  el  entorno  actual  sigue  presentando  importantes  riesgos  que  pudieran  afectar  las  condiciones macroeconómicas del país, su capacidad de crecimiento y el proceso de formación de precios en la economía. en este sentido, es particularmente importante que además de seguir una política monetaria prudente  y  firme,  se  impulse  la  adopción  de  medidas  que  propicien  un  ambiente  de  confianza  y certidumbre para la inversión, una mayor productividad y que se consoliden sosteniblemente las finanzas públicas. en este contexto, es necesario reforzar las perspectivas crediticias soberana y de pemex, así como cumplir las metas fiscales para 2019 y los objetivos del paquete económico 2020. asimismo, es indispensable fortalecer el estado de derecho, abatir la corrupción y combatir la inseguridad.  la información oportuna para el tercer trimestre de 2019 muestra que se ha mantenido el estancamiento de la actividad económica que se ha venido observando por varios trimestres. ello implica la ampliación de las condiciones de holgura de la economía a un ritmo mayor al previsto. con base en la información más reciente, el crecimiento que se prevé para el pib en este y el próximo año sería menor al publicado en  el  informe  trimestral  abril-junio  2019.  en  un  entorno  de  marcada  incertidumbre,  el  balance  de riesgos para el crecimiento continúa sesgado a la baja.  1    la inflación general en octubre fue de 3.02%. destaca que el subíndice no subyacente se ha mantenido en  niveles  bajos,  ubicándose  en  1.01%  en  dicho mes, mientras que  el subyacente  ha  persistido  en niveles superiores, si bien mostró una ligera reducción para ubicarse en 3.68% en dicho periodo. en cuanto a las expectativas de inflación provenientes de encuestas, las de corto plazo han seguido a la información más reciente, mientras que las de mayor plazo han permanecido relativamente estables, si bien en niveles superiores a 3%.  el comportamiento reciente de los factores que inciden en la trayectoria esperada de la inflación general sugiere que esta podría ubicarse ligeramente por debajo de la trayectoria dada a conocer en el informe trimestral anterior. ello debido a que en los últimos meses se han materializado algunos riesgos a la baja  en  la  inflación  no  subyacente.  por  su  parte,  la  inflación  subyacente  ha  continuado  mostrando persistencia.   en cuanto a los riesgos para la inflación, al alza se encuentran: i) que se mantenga la persistencia mostrada  por  la  inflación  subyacente;  ii)  aumentos  salariales  por  encima  de  las  ganancias  en productividad y que ello genere presiones de costos; iii) que la cotización de la moneda nacional se vea presionada por factores externos o internos; iv) la amenaza de aranceles por parte de estados unidos y que se adopten medidas compensatorias, si bien este riesgo se ha mitigado; v) que se deterioren las finanzas  públicas;  y  vi)  aumentos  en  los  precios  agropecuarios  o  en  los  energéticos  mayores  a  lo previsto. por otra parte, en cuanto a los riesgos a la baja, destacan: i) que se aprecie la cotización de la moneda  nacional,  lo  cual  podría  estar  asociado  a  un  contexto  de  mayor  apetito  por  riesgo  en  los mercados financieros internacionales, o en caso de ratificarse el acuerdo comercial con estados unidos y canadá; ii) que la amplitud en las condiciones de holgura o su efecto en la inflación subyacente sea mayor al previsto; y iii) que se presenten menores variaciones en los precios de algunos bienes incluidos en el subíndice no subyacente. en este contexto, se mantiene incertidumbre en cuanto a los riesgos que pudieran desviar a la inflación respecto de la trayectoria esperada.  para  guiar  sus  acciones  de  política  monetaria,  la  junta  de  gobierno  da  seguimiento  cercano  a  la evolución  de  la  inflación  respecto  a  lo  previsto,  considerando  la  postura  monetaria  adoptada  y  el horizonte en el que esta opera. en este proceso, utiliza la información disponible de los determinantes de la inflación, así como sus expectativas de mediano y largo plazos, incluyendo el balance de riesgos para estos. a su vez, la política monetaria debe actuar con prudencia si por diversas razones se eleva considerablemente la incertidumbre que enfrenta la economía. en este contexto, tomando en cuenta que los menores niveles que registra la inflación general, así como la mayor amplitud de las condiciones de holgura de la economía y el comportamiento reciente de las curvas de rendimiento externas e internas permiten reducir la tasa de referencia, la junta de gobierno decidió por mayoría disminuir en 25 puntos base el objetivo para la tasa de interés interbancaria a un día a un nivel de 7.50%. dos miembros votaron por disminuir dicho objetivo a un nivel de 7.25%. para consolidar una inflación baja y estable, en un entorno en el que la formación de precios y las condiciones de holgura en la economía están sujetas a riesgos, la junta de gobierno continuará dando seguimiento cercano a todos los factores y elementos  de  incertidumbre  que  inciden  en  el  comportamiento  de  la  inflación  y  sus  perspectivas,  y tomará las acciones que se requieran con base en la información adicional, de tal manera que la tasa de referencia sea congruente con la convergencia ordenada y sostenida de la inflación general a la meta del banco de méxico en el plazo en el que opera la política monetaria.  la junta mantendrá una postura monetaria prudente y dará un seguimiento especial, en el entorno de incertidumbre prevaleciente, al traspaso potencial de las variaciones del tipo de cambio a los precios, a la posición monetaria relativa en un contexto externo en el que persisten riesgos, así como a la evolución de  las  condiciones  de  holgura  y  presiones  de  costos  en  la  economía.  ante  la  presencia  y  posible persistencia de factores que, por su naturaleza, impliquen un riesgo para la inflación y sus expectativas, la política monetaria se ajustará de manera oportuna y firme para lograr la convergencia de esta a su objetivo de 3%, así como para fortalecer el anclaje de las expectativas de inflación de mediano y largo plazos para que alcancen dicha meta. 2  '"
      ]
     },
     "execution_count": 145,
     "metadata": {},
     "output_type": "execute_result"
    }
   ],
   "source": [
    "pdf_text = pdf_text.replace(\"\\x0c\", \"\")\n",
    "pdf_text = pdf_text.lower()\n",
    "pdf_text"
   ]
  },
  {
   "cell_type": "code",
   "execution_count": 146,
   "metadata": {},
   "outputs": [],
   "source": [
    "set_of_words_in_file = set(pdf_text.split(' '))\n",
    "list_of_words_in_file = list(pdf_text.split(' '))"
   ]
  },
  {
   "cell_type": "code",
   "execution_count": 149,
   "metadata": {},
   "outputs": [
    {
     "data": {
      "text/html": [
       "<div>\n",
       "<style scoped>\n",
       "    .dataframe tbody tr th:only-of-type {\n",
       "        vertical-align: middle;\n",
       "    }\n",
       "\n",
       "    .dataframe tbody tr th {\n",
       "        vertical-align: top;\n",
       "    }\n",
       "\n",
       "    .dataframe thead th {\n",
       "        text-align: right;\n",
       "    }\n",
       "</style>\n",
       "<table border=\"1\" class=\"dataframe\">\n",
       "  <thead>\n",
       "    <tr style=\"text-align: right;\">\n",
       "      <th></th>\n",
       "      <th>words</th>\n",
       "    </tr>\n",
       "  </thead>\n",
       "  <tbody>\n",
       "    <tr>\n",
       "      <td>0</td>\n",
       "      <td></td>\n",
       "    </tr>\n",
       "    <tr>\n",
       "      <td>1</td>\n",
       "      <td>14</td>\n",
       "    </tr>\n",
       "    <tr>\n",
       "      <td>2</td>\n",
       "      <td>de</td>\n",
       "    </tr>\n",
       "    <tr>\n",
       "      <td>3</td>\n",
       "      <td>noviembre</td>\n",
       "    </tr>\n",
       "    <tr>\n",
       "      <td>4</td>\n",
       "      <td>de</td>\n",
       "    </tr>\n",
       "    <tr>\n",
       "      <td>...</td>\n",
       "      <td>...</td>\n",
       "    </tr>\n",
       "    <tr>\n",
       "      <td>1594</td>\n",
       "      <td>dicha</td>\n",
       "    </tr>\n",
       "    <tr>\n",
       "      <td>1595</td>\n",
       "      <td>meta.</td>\n",
       "    </tr>\n",
       "    <tr>\n",
       "      <td>1596</td>\n",
       "      <td>2</td>\n",
       "    </tr>\n",
       "    <tr>\n",
       "      <td>1597</td>\n",
       "      <td></td>\n",
       "    </tr>\n",
       "    <tr>\n",
       "      <td>1598</td>\n",
       "      <td></td>\n",
       "    </tr>\n",
       "  </tbody>\n",
       "</table>\n",
       "<p>1599 rows × 1 columns</p>\n",
       "</div>"
      ],
      "text/plain": [
       "          words\n",
       "0              \n",
       "1            14\n",
       "2            de\n",
       "3     noviembre\n",
       "4            de\n",
       "...         ...\n",
       "1594      dicha\n",
       "1595      meta.\n",
       "1596          2\n",
       "1597           \n",
       "1598           \n",
       "\n",
       "[1599 rows x 1 columns]"
      ]
     },
     "execution_count": 149,
     "metadata": {},
     "output_type": "execute_result"
    }
   ],
   "source": [
    "words_df = pd.DataFrame(list_of_words_in_file)\n",
    "words_df.columns = [\"words\"]\n",
    "words_df"
   ]
  },
  {
   "cell_type": "code",
   "execution_count": 148,
   "metadata": {},
   "outputs": [
    {
     "name": "stdout",
     "output_type": "stream",
     "text": [
      "actividad is in pdf 🎻\n",
      "económica is in pdf 🎻\n",
      "mundial is in pdf 🎻\n",
      "méxico is in pdf 🎻\n"
     ]
    }
   ],
   "source": [
    "count = 0\n",
    "for word in words_to_seek:\n",
    "    if word in list_of_words_in_file:\n",
    "        print(f\"{word} is in pdf 🎻\")\n",
    "    else:\n",
    "        print(f\"{word} isn't in pdf\")"
   ]
  }
 ],
 "metadata": {
  "kernelspec": {
   "display_name": "Python 3",
   "language": "python",
   "name": "python3"
  },
  "language_info": {
   "codemirror_mode": {
    "name": "ipython",
    "version": 3
   },
   "file_extension": ".py",
   "mimetype": "text/x-python",
   "name": "python",
   "nbconvert_exporter": "python",
   "pygments_lexer": "ipython3",
   "version": "3.7.4"
  }
 },
 "nbformat": 4,
 "nbformat_minor": 2
}
