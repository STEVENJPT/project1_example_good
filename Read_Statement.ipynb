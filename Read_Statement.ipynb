{
 "cells": [
  {
   "cell_type": "code",
   "execution_count": 1,
   "metadata": {},
   "outputs": [],
   "source": [
    "import pandas as pd\n",
    "import datetime\n",
    "import requests\n",
    "import tabula\n",
    "import io\n",
    "import os\n",
    "import sys\n",
    "\n",
    "#URLlib\n",
    "import urllib\n",
    "import urllib.request\n",
    "\n",
    "#PDFminer\n",
    "import pdfminer\n",
    "from pdfminer.pdfpage import PDFPage\n",
    "from pdfminer.pdfparser import PDFParser\n",
    "from pdfminer.pdfdocument import PDFDocument\n",
    "from pdfminer.pdfinterp import PDFResourceManager\n",
    "from pdfminer.pdfinterp import PDFPageInterpreter\n",
    "from pdfminer.layout import LAParams\n",
    "from pdfminer.converter import TextConverter\n",
    "from io import StringIO\n",
    "from pdfminer.converter import PDFPageAggregator\n",
    "from pdfminer.layout import LTTextBoxHorizontal"
   ]
  },
  {
   "cell_type": "code",
   "execution_count": 2,
   "metadata": {},
   "outputs": [],
   "source": [
    "#Palabras a buscar \n",
    "word_count = \"Word Count\"\n",
    "letter_count = \"Letter Count\"\n",
    "word_1 = \"Crecimiento\"\n",
    "word_2 = \"Riesgo\"\n",
    "word_3 = \"inflacion\"\n",
    "#Misma formato para mas palabras\n"
   ]
  },
  {
   "cell_type": "code",
   "execution_count": 3,
   "metadata": {},
   "outputs": [],
   "source": [
    "word_seek = pd.DataFrame( index = [word_count,\n",
    "                                  letter_count,\n",
    "                                  word_1,\n",
    "                                  word_2,\n",
    "                                  word_3])"
   ]
  },
  {
   "cell_type": "code",
   "execution_count": 4,
   "metadata": {},
   "outputs": [],
   "source": [
    "#df2 = tabula.read_pdf(\"https://www.banxico.org.mx/publicaciones-y-prensa/anuncios-de-las-decisiones-de-politica-monetaria/%7B1170CD25-C24D-E99C-F3D3-6B86D1822E65%7D.pdf\")"
   ]
  },
  {
   "cell_type": "code",
   "execution_count": 5,
   "metadata": {},
   "outputs": [],
   "source": [
    "#Import Statement\n",
    "#url = \"https://www.banxico.org.mx/publicaciones-y-prensa/anuncios-de-las-decisiones-de-politica-monetaria/%7B1170CD25-C24D-E99C-F3D3-6B86D1822E65%7D.pdf\"\n",
    "#pdf_file = requests.get(url, stream = True)\n",
    "#print(pdf_file)"
   ]
  },
  {
   "cell_type": "code",
   "execution_count": 6,
   "metadata": {},
   "outputs": [],
   "source": [
    "path = \"statement.pdf\""
   ]
  },
  {
   "cell_type": "code",
   "execution_count": 7,
   "metadata": {},
   "outputs": [],
   "source": [
    "class MyParser(object):\n",
    "    def __init__(self, pdf):\n",
    "        parser = PDFParser(cStringIO.StringIO(pdf_file.read()))\n",
    "        document = PDFDocument(parser)\n",
    "        rsrcmngr = PDFResourceManager()\n",
    "        retstr = StringIO()\n",
    "        laprams = LAParams()\n",
    "        codec = 'ut - 8'\n",
    "        "
   ]
  },
  {
   "cell_type": "code",
   "execution_count": 8,
   "metadata": {},
   "outputs": [],
   "source": [
    "def convert_pdf_to_txt(path):\n",
    "    rsrcmgr = PDFResourceManager()\n",
    "    retstr = io.StringIO()\n",
    "    #codec = 'utf - 8'\n",
    "    laparams = LAParams()\n",
    "    device = TextConverter(rsrcmgr, retstr, laparams=laparams)\n",
    "    fp = open(path, 'rb')\n",
    "    interpreter = PDFPageInterpreter(rsrcmgr, device)\n",
    "    password = \"\"\n",
    "    maxpages = 0\n",
    "    caching = True\n",
    "    pagenos = set()\n",
    "\n",
    "    for page in PDFPage.get_pages(fp, pagenos, maxpages=maxpages,\n",
    "                                  password=password,\n",
    "                                  caching=caching,\n",
    "                                  check_extractable=True):\n",
    "        interpreter.process_page(page)\n",
    "\n",
    "    text = retstr.getvalue()\n",
    "\n",
    "    fp.close()\n",
    "    device.close()\n",
    "    retstr.close()\n",
    "    return text"
   ]
  },
  {
   "cell_type": "code",
   "execution_count": 9,
   "metadata": {},
   "outputs": [
    {
     "data": {
      "text/plain": [
       "' \\n\\n14 de noviembre de 2019 \\n\\nAnuncio de Política Monetaria  \\n\\nComunicado de Prensa \\n\\nLa Junta de Gobierno del Banco de México ha decidido disminuir en 25 puntos base el objetivo \\npara la Tasa de Interés Interbancaria a un día a un nivel de 7.50%. \\n \\nDurante el tercer trimestre del año continuó la desaceleración de la economía mundial y sus perspectivas \\nde crecimiento han seguido revisándose a la baja. Ello, en un entorno en el que las inflaciones general \\ny subyacente en las principales economías avanzadas permanecen en niveles inferiores a las metas de \\nsus respectivos bancos centrales. En este contexto, algunas de estas instituciones han tomado acciones \\nde relajamiento monetario en los últimos meses. En su reunión de octubre la Reserva Federal redujo en \\n25 puntos base el rango objetivo para la tasa de fondos federales y en su comunicación destacó que el \\nrango  alcanzado  es  apropiado  considerando  los  riesgos  que  enfrenta.  Por  su  parte,  los  mercados \\nfinancieros  internacionales  presentaron  una  menor  volatilidad,  debido  principalmente  a  que  se  han \\natenuado las tensiones comerciales entre Estados Unidos y China y se redujo la probabilidad de una \\nsalida desordenada del Reino Unido de la Unión Europea. Adicionalmente, las posturas acomodaticias \\nde los principales bancos centrales han contribuido a un mejor desempeño de los mercados financieros \\ninternacionales  en  las  últimas  semanas.  No  obstante,  persisten  riesgos  para  la  economía  global \\nasociados a las tensiones comerciales y factores geopolíticos, así como a incertidumbre política y social \\nen  diversos  países.  Por  tanto,  el  balance  de  riesgos  para  la  actividad  económica  mundial  continúa \\nsesgado a la baja. \\n \\nEl  relajamiento  en  las  condiciones  financieras  globales  ha  propiciado  un  mejor  desempeño  de  los \\nmercados financieros de economías emergentes. En México, si bien con episodios de volatilidad, desde \\nla última decisión de política monetaria la cotización del peso mostró cierta apreciación, mientras que \\nlas tasas de interés de los valores gubernamentales han reflejado los efectos de las menores tasas de \\ninterés externas. En cuanto a los riesgos que pudieran afectar el desempeño de los activos financieros \\nnacionales, persiste la incertidumbre asociada a la relación bilateral entre México y Estados Unidos y a \\nlas perspectivas crediticias para la calificación de la deuda de Pemex y la soberana. \\n \\nEl  entorno  actual  sigue  presentando  importantes  riesgos  que  pudieran  afectar  las  condiciones \\nmacroeconómicas del país, su capacidad de crecimiento y el proceso de formación de precios en la \\neconomía. En este sentido, es particularmente importante que además de seguir una política monetaria \\nprudente  y  firme,  se  impulse  la  adopción  de  medidas  que  propicien  un  ambiente  de  confianza  y \\ncertidumbre para la inversión, una mayor productividad y que se consoliden sosteniblemente las finanzas \\npúblicas. En este contexto, es necesario reforzar las perspectivas crediticias soberana y de Pemex, así \\ncomo cumplir las metas fiscales para 2019 y los objetivos del Paquete Económico 2020. Asimismo, es \\nindispensable fortalecer el estado de derecho, abatir la corrupción y combatir la inseguridad. \\n \\nLa información oportuna para el tercer trimestre de 2019 muestra que se ha mantenido el estancamiento \\nde la actividad económica que se ha venido observando por varios trimestres. Ello implica la ampliación \\nde las condiciones de holgura de la economía a un ritmo mayor al previsto. Con base en la información \\nmás reciente, el crecimiento que se prevé para el PIB en este y el próximo año sería menor al publicado \\nen  el  Informe  Trimestral  Abril-Junio  2019.  En  un  entorno  de  marcada  incertidumbre,  el  balance  de \\nriesgos para el crecimiento continúa sesgado a la baja. \\n \\n\\n1 \\n\\n \\n\\n\\x0c \\n\\n \\nLa inflación general en octubre fue de 3.02%. Destaca que el subíndice no subyacente se ha mantenido \\nen  niveles  bajos,  ubicándose  en  1.01%  en  dicho mes, mientras que  el subyacente  ha  persistido  en \\nniveles superiores, si bien mostró una ligera reducción para ubicarse en 3.68% en dicho periodo. En \\ncuanto a las expectativas de inflación provenientes de encuestas, las de corto plazo han seguido a la \\ninformación más reciente, mientras que las de mayor plazo han permanecido relativamente estables, si \\nbien en niveles superiores a 3%. \\n \\nEl comportamiento reciente de los factores que inciden en la trayectoria esperada de la inflación general \\nsugiere que esta podría ubicarse ligeramente por debajo de la trayectoria dada a conocer en el Informe \\nTrimestral anterior. Ello debido a que en los últimos meses se han materializado algunos riesgos a la \\nbaja  en  la  inflación  no  subyacente.  Por  su  parte,  la  inflación  subyacente  ha  continuado  mostrando \\npersistencia.  \\n \\nEn cuanto a los riesgos para la inflación, al alza se encuentran: i) que se mantenga la persistencia \\nmostrada  por  la  inflación  subyacente;  ii)  aumentos  salariales  por  encima  de  las  ganancias  en \\nproductividad y que ello genere presiones de costos; iii) que la cotización de la moneda nacional se vea \\npresionada por factores externos o internos; iv) la amenaza de aranceles por parte de Estados Unidos \\ny que se adopten medidas compensatorias, si bien este riesgo se ha mitigado; v) que se deterioren las \\nfinanzas  públicas;  y  vi)  aumentos  en  los  precios  agropecuarios  o  en  los  energéticos  mayores  a  lo \\nprevisto. Por otra parte, en cuanto a los riesgos a la baja, destacan: i) que se aprecie la cotización de la \\nmoneda  nacional,  lo  cual  podría  estar  asociado  a  un  contexto  de  mayor  apetito  por  riesgo  en  los \\nmercados financieros internacionales, o en caso de ratificarse el acuerdo comercial con Estados Unidos \\ny Canadá; ii) que la amplitud en las condiciones de holgura o su efecto en la inflación subyacente sea \\nmayor al previsto; y iii) que se presenten menores variaciones en los precios de algunos bienes incluidos \\nen el subíndice no subyacente. En este contexto, se mantiene incertidumbre en cuanto a los riesgos que \\npudieran desviar a la inflación respecto de la trayectoria esperada. \\n \\nPara  guiar  sus  acciones  de  política  monetaria,  la  Junta  de  Gobierno  da  seguimiento  cercano  a  la \\nevolución  de  la  inflación  respecto  a  lo  previsto,  considerando  la  postura  monetaria  adoptada  y  el \\nhorizonte en el que esta opera. En este proceso, utiliza la información disponible de los determinantes \\nde la inflación, así como sus expectativas de mediano y largo plazos, incluyendo el balance de riesgos \\npara estos. A su vez, la política monetaria debe actuar con prudencia si por diversas razones se eleva \\nconsiderablemente la incertidumbre que enfrenta la economía. En este contexto, tomando en cuenta \\nque los menores niveles que registra la inflación general, así como la mayor amplitud de las condiciones \\nde holgura de la economía y el comportamiento reciente de las curvas de rendimiento externas e internas \\npermiten reducir la tasa de referencia, la Junta de Gobierno decidió por mayoría disminuir en 25 puntos \\nbase el objetivo para la Tasa de Interés Interbancaria a un día a un nivel de 7.50%. Dos miembros \\nvotaron por disminuir dicho objetivo a un nivel de 7.25%. Para consolidar una inflación baja y estable, \\nen un entorno en el que la formación de precios y las condiciones de holgura en la economía están \\nsujetas a riesgos, la Junta de Gobierno continuará dando seguimiento cercano a todos los factores y \\nelementos  de  incertidumbre  que  inciden  en  el  comportamiento  de  la  inflación  y  sus  perspectivas,  y \\ntomará las acciones que se requieran con base en la información adicional, de tal manera que la tasa \\nde referencia sea congruente con la convergencia ordenada y sostenida de la inflación general a la meta \\ndel Banco de México en el plazo en el que opera la política monetaria. \\n \\nLa Junta mantendrá una postura monetaria prudente y dará un seguimiento especial, en el entorno de \\nincertidumbre prevaleciente, al traspaso potencial de las variaciones del tipo de cambio a los precios, a \\nla posición monetaria relativa en un contexto externo en el que persisten riesgos, así como a la evolución \\nde  las  condiciones  de  holgura  y  presiones  de  costos  en  la  economía.  Ante  la  presencia  y  posible \\npersistencia de factores que, por su naturaleza, impliquen un riesgo para la inflación y sus expectativas, \\nla política monetaria se ajustará de manera oportuna y firme para lograr la convergencia de esta a su \\nobjetivo de 3%, así como para fortalecer el anclaje de las expectativas de inflación de mediano y largo \\nplazos para que alcancen dicha meta. \\n\\n2 \\n\\n \\n\\n\\x0c'"
      ]
     },
     "execution_count": 9,
     "metadata": {},
     "output_type": "execute_result"
    }
   ],
   "source": [
    "convert_pdf_to_txt(path)"
   ]
  },
  {
   "cell_type": "code",
   "execution_count": null,
   "metadata": {},
   "outputs": [],
   "source": []
  },
  {
   "cell_type": "code",
   "execution_count": null,
   "metadata": {},
   "outputs": [],
   "source": []
  }
 ],
 "metadata": {
  "kernelspec": {
   "display_name": "Python 3",
   "language": "python",
   "name": "python3"
  },
  "language_info": {
   "codemirror_mode": {
    "name": "ipython",
    "version": 3
   },
   "file_extension": ".py",
   "mimetype": "text/x-python",
   "name": "python",
   "nbconvert_exporter": "python",
   "pygments_lexer": "ipython3",
   "version": "3.7.4"
  }
 },
 "nbformat": 4,
 "nbformat_minor": 2
}
